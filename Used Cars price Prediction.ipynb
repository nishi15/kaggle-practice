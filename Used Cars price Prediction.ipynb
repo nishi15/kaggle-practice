{
 "cells": [
  {
   "cell_type": "markdown",
   "id": "8e20590e",
   "metadata": {},
   "source": [
    "### About Dataset\n",
    "\n",
    "This dataset contains information about used cars.\n",
    "This data can be used for a lot of purposes such as price prediction to exemplify the use of linear regression in Machine Learning.\n",
    "The columns in the given dataset are as follows:\n",
    "\n",
    "- name\n",
    "- year\n",
    "- selling_price\n",
    "- km_driven\n",
    "- fuel\n",
    "- seller_type\n",
    "- transmission\n",
    "- Owner\n",
    "\n",
    "`kaggale link`\n",
    "\n",
    "https://www.kaggle.com/datasets/nehalbirla/vehicle-dataset-from-cardekho"
   ]
  },
  {
   "cell_type": "code",
   "execution_count": 1,
   "id": "0c43c86f",
   "metadata": {},
   "outputs": [],
   "source": [
    "# Importing al libraries\n",
    "\n",
    "import pandas as pd\n",
    "import numpy as np\n",
    "import matplotlib.pyplot as plt\n",
    "import seaborn as sns\n",
    "\n",
    "from sklearn.preprocessing import StandardScaler,OrdinalEncoder,OneHotEncoder\n",
    "from sklearn.model_selection import train_test_split\n",
    "from sklearn.linear_model import LinearRegression\n",
    "from sklearn.pipeline import Pipeline\n",
    "\n",
    "import warnings\n",
    "warnings.filterwarnings('ignore')"
   ]
  },
  {
   "cell_type": "code",
   "execution_count": 2,
   "id": "05565228",
   "metadata": {},
   "outputs": [
    {
     "data": {
      "text/html": [
       "<div>\n",
       "<style scoped>\n",
       "    .dataframe tbody tr th:only-of-type {\n",
       "        vertical-align: middle;\n",
       "    }\n",
       "\n",
       "    .dataframe tbody tr th {\n",
       "        vertical-align: top;\n",
       "    }\n",
       "\n",
       "    .dataframe thead th {\n",
       "        text-align: right;\n",
       "    }\n",
       "</style>\n",
       "<table border=\"1\" class=\"dataframe\">\n",
       "  <thead>\n",
       "    <tr style=\"text-align: right;\">\n",
       "      <th></th>\n",
       "      <th>name</th>\n",
       "      <th>year</th>\n",
       "      <th>selling_price</th>\n",
       "      <th>km_driven</th>\n",
       "      <th>fuel</th>\n",
       "      <th>seller_type</th>\n",
       "      <th>transmission</th>\n",
       "      <th>owner</th>\n",
       "      <th>mileage</th>\n",
       "      <th>engine</th>\n",
       "      <th>max_power</th>\n",
       "      <th>torque</th>\n",
       "      <th>seats</th>\n",
       "    </tr>\n",
       "  </thead>\n",
       "  <tbody>\n",
       "    <tr>\n",
       "      <th>0</th>\n",
       "      <td>Maruti Swift Dzire VDI</td>\n",
       "      <td>2014</td>\n",
       "      <td>450000</td>\n",
       "      <td>145500</td>\n",
       "      <td>Diesel</td>\n",
       "      <td>Individual</td>\n",
       "      <td>Manual</td>\n",
       "      <td>First Owner</td>\n",
       "      <td>23.4 kmpl</td>\n",
       "      <td>1248 CC</td>\n",
       "      <td>74 bhp</td>\n",
       "      <td>190Nm@ 2000rpm</td>\n",
       "      <td>5.0</td>\n",
       "    </tr>\n",
       "    <tr>\n",
       "      <th>1</th>\n",
       "      <td>Skoda Rapid 1.5 TDI Ambition</td>\n",
       "      <td>2014</td>\n",
       "      <td>370000</td>\n",
       "      <td>120000</td>\n",
       "      <td>Diesel</td>\n",
       "      <td>Individual</td>\n",
       "      <td>Manual</td>\n",
       "      <td>Second Owner</td>\n",
       "      <td>21.14 kmpl</td>\n",
       "      <td>1498 CC</td>\n",
       "      <td>103.52 bhp</td>\n",
       "      <td>250Nm@ 1500-2500rpm</td>\n",
       "      <td>5.0</td>\n",
       "    </tr>\n",
       "    <tr>\n",
       "      <th>2</th>\n",
       "      <td>Honda City 2017-2020 EXi</td>\n",
       "      <td>2006</td>\n",
       "      <td>158000</td>\n",
       "      <td>140000</td>\n",
       "      <td>Petrol</td>\n",
       "      <td>Individual</td>\n",
       "      <td>Manual</td>\n",
       "      <td>Third Owner</td>\n",
       "      <td>17.7 kmpl</td>\n",
       "      <td>1497 CC</td>\n",
       "      <td>78 bhp</td>\n",
       "      <td>12.7@ 2,700(kgm@ rpm)</td>\n",
       "      <td>5.0</td>\n",
       "    </tr>\n",
       "    <tr>\n",
       "      <th>3</th>\n",
       "      <td>Hyundai i20 Sportz Diesel</td>\n",
       "      <td>2010</td>\n",
       "      <td>225000</td>\n",
       "      <td>127000</td>\n",
       "      <td>Diesel</td>\n",
       "      <td>Individual</td>\n",
       "      <td>Manual</td>\n",
       "      <td>First Owner</td>\n",
       "      <td>23.0 kmpl</td>\n",
       "      <td>1396 CC</td>\n",
       "      <td>90 bhp</td>\n",
       "      <td>22.4 kgm at 1750-2750rpm</td>\n",
       "      <td>5.0</td>\n",
       "    </tr>\n",
       "    <tr>\n",
       "      <th>4</th>\n",
       "      <td>Maruti Swift VXI BSIII</td>\n",
       "      <td>2007</td>\n",
       "      <td>130000</td>\n",
       "      <td>120000</td>\n",
       "      <td>Petrol</td>\n",
       "      <td>Individual</td>\n",
       "      <td>Manual</td>\n",
       "      <td>First Owner</td>\n",
       "      <td>16.1 kmpl</td>\n",
       "      <td>1298 CC</td>\n",
       "      <td>88.2 bhp</td>\n",
       "      <td>11.5@ 4,500(kgm@ rpm)</td>\n",
       "      <td>5.0</td>\n",
       "    </tr>\n",
       "  </tbody>\n",
       "</table>\n",
       "</div>"
      ],
      "text/plain": [
       "                           name  year  selling_price  km_driven    fuel  \\\n",
       "0        Maruti Swift Dzire VDI  2014         450000     145500  Diesel   \n",
       "1  Skoda Rapid 1.5 TDI Ambition  2014         370000     120000  Diesel   \n",
       "2      Honda City 2017-2020 EXi  2006         158000     140000  Petrol   \n",
       "3     Hyundai i20 Sportz Diesel  2010         225000     127000  Diesel   \n",
       "4        Maruti Swift VXI BSIII  2007         130000     120000  Petrol   \n",
       "\n",
       "  seller_type transmission         owner     mileage   engine   max_power  \\\n",
       "0  Individual       Manual   First Owner   23.4 kmpl  1248 CC      74 bhp   \n",
       "1  Individual       Manual  Second Owner  21.14 kmpl  1498 CC  103.52 bhp   \n",
       "2  Individual       Manual   Third Owner   17.7 kmpl  1497 CC      78 bhp   \n",
       "3  Individual       Manual   First Owner   23.0 kmpl  1396 CC      90 bhp   \n",
       "4  Individual       Manual   First Owner   16.1 kmpl  1298 CC    88.2 bhp   \n",
       "\n",
       "                     torque  seats  \n",
       "0            190Nm@ 2000rpm    5.0  \n",
       "1       250Nm@ 1500-2500rpm    5.0  \n",
       "2     12.7@ 2,700(kgm@ rpm)    5.0  \n",
       "3  22.4 kgm at 1750-2750rpm    5.0  \n",
       "4     11.5@ 4,500(kgm@ rpm)    5.0  "
      ]
     },
     "execution_count": 2,
     "metadata": {},
     "output_type": "execute_result"
    }
   ],
   "source": [
    "df = pd.read_csv(\"datasets/Car details v3.csv\")\n",
    "df.head()"
   ]
  },
  {
   "cell_type": "code",
   "execution_count": 3,
   "id": "4bdb4ab6",
   "metadata": {},
   "outputs": [
    {
     "data": {
      "text/plain": [
       "(8128, 13)"
      ]
     },
     "execution_count": 3,
     "metadata": {},
     "output_type": "execute_result"
    }
   ],
   "source": [
    "df.shape"
   ]
  },
  {
   "cell_type": "markdown",
   "id": "0621f62d",
   "metadata": {},
   "source": [
    "###### Analysing data"
   ]
  },
  {
   "cell_type": "code",
   "execution_count": 4,
   "id": "d7f351a4",
   "metadata": {},
   "outputs": [
    {
     "name": "stdout",
     "output_type": "stream",
     "text": [
      "<class 'pandas.core.frame.DataFrame'>\n",
      "RangeIndex: 8128 entries, 0 to 8127\n",
      "Data columns (total 13 columns):\n",
      " #   Column         Non-Null Count  Dtype  \n",
      "---  ------         --------------  -----  \n",
      " 0   name           8128 non-null   object \n",
      " 1   year           8128 non-null   int64  \n",
      " 2   selling_price  8128 non-null   int64  \n",
      " 3   km_driven      8128 non-null   int64  \n",
      " 4   fuel           8128 non-null   object \n",
      " 5   seller_type    8128 non-null   object \n",
      " 6   transmission   8128 non-null   object \n",
      " 7   owner          8128 non-null   object \n",
      " 8   mileage        7907 non-null   object \n",
      " 9   engine         7907 non-null   object \n",
      " 10  max_power      7913 non-null   object \n",
      " 11  torque         7906 non-null   object \n",
      " 12  seats          7907 non-null   float64\n",
      "dtypes: float64(1), int64(3), object(9)\n",
      "memory usage: 825.6+ KB\n"
     ]
    }
   ],
   "source": [
    "df.info()"
   ]
  },
  {
   "cell_type": "code",
   "execution_count": 5,
   "id": "2c8ced09",
   "metadata": {},
   "outputs": [
    {
     "data": {
      "text/html": [
       "<div>\n",
       "<style scoped>\n",
       "    .dataframe tbody tr th:only-of-type {\n",
       "        vertical-align: middle;\n",
       "    }\n",
       "\n",
       "    .dataframe tbody tr th {\n",
       "        vertical-align: top;\n",
       "    }\n",
       "\n",
       "    .dataframe thead th {\n",
       "        text-align: right;\n",
       "    }\n",
       "</style>\n",
       "<table border=\"1\" class=\"dataframe\">\n",
       "  <thead>\n",
       "    <tr style=\"text-align: right;\">\n",
       "      <th></th>\n",
       "      <th>year</th>\n",
       "      <th>selling_price</th>\n",
       "      <th>km_driven</th>\n",
       "      <th>seats</th>\n",
       "    </tr>\n",
       "  </thead>\n",
       "  <tbody>\n",
       "    <tr>\n",
       "      <th>count</th>\n",
       "      <td>8128.000000</td>\n",
       "      <td>8.128000e+03</td>\n",
       "      <td>8.128000e+03</td>\n",
       "      <td>7907.000000</td>\n",
       "    </tr>\n",
       "    <tr>\n",
       "      <th>mean</th>\n",
       "      <td>2013.804011</td>\n",
       "      <td>6.382718e+05</td>\n",
       "      <td>6.981951e+04</td>\n",
       "      <td>5.416719</td>\n",
       "    </tr>\n",
       "    <tr>\n",
       "      <th>std</th>\n",
       "      <td>4.044249</td>\n",
       "      <td>8.062534e+05</td>\n",
       "      <td>5.655055e+04</td>\n",
       "      <td>0.959588</td>\n",
       "    </tr>\n",
       "    <tr>\n",
       "      <th>min</th>\n",
       "      <td>1983.000000</td>\n",
       "      <td>2.999900e+04</td>\n",
       "      <td>1.000000e+00</td>\n",
       "      <td>2.000000</td>\n",
       "    </tr>\n",
       "    <tr>\n",
       "      <th>25%</th>\n",
       "      <td>2011.000000</td>\n",
       "      <td>2.549990e+05</td>\n",
       "      <td>3.500000e+04</td>\n",
       "      <td>5.000000</td>\n",
       "    </tr>\n",
       "    <tr>\n",
       "      <th>50%</th>\n",
       "      <td>2015.000000</td>\n",
       "      <td>4.500000e+05</td>\n",
       "      <td>6.000000e+04</td>\n",
       "      <td>5.000000</td>\n",
       "    </tr>\n",
       "    <tr>\n",
       "      <th>75%</th>\n",
       "      <td>2017.000000</td>\n",
       "      <td>6.750000e+05</td>\n",
       "      <td>9.800000e+04</td>\n",
       "      <td>5.000000</td>\n",
       "    </tr>\n",
       "    <tr>\n",
       "      <th>max</th>\n",
       "      <td>2020.000000</td>\n",
       "      <td>1.000000e+07</td>\n",
       "      <td>2.360457e+06</td>\n",
       "      <td>14.000000</td>\n",
       "    </tr>\n",
       "  </tbody>\n",
       "</table>\n",
       "</div>"
      ],
      "text/plain": [
       "              year  selling_price     km_driven        seats\n",
       "count  8128.000000   8.128000e+03  8.128000e+03  7907.000000\n",
       "mean   2013.804011   6.382718e+05  6.981951e+04     5.416719\n",
       "std       4.044249   8.062534e+05  5.655055e+04     0.959588\n",
       "min    1983.000000   2.999900e+04  1.000000e+00     2.000000\n",
       "25%    2011.000000   2.549990e+05  3.500000e+04     5.000000\n",
       "50%    2015.000000   4.500000e+05  6.000000e+04     5.000000\n",
       "75%    2017.000000   6.750000e+05  9.800000e+04     5.000000\n",
       "max    2020.000000   1.000000e+07  2.360457e+06    14.000000"
      ]
     },
     "execution_count": 5,
     "metadata": {},
     "output_type": "execute_result"
    }
   ],
   "source": [
    "df.describe()"
   ]
  },
  {
   "cell_type": "code",
   "execution_count": 6,
   "id": "6513a366",
   "metadata": {},
   "outputs": [
    {
     "data": {
      "text/plain": [
       "name               0\n",
       "year               0\n",
       "selling_price      0\n",
       "km_driven          0\n",
       "fuel               0\n",
       "seller_type        0\n",
       "transmission       0\n",
       "owner              0\n",
       "mileage          221\n",
       "engine           221\n",
       "max_power        215\n",
       "torque           222\n",
       "seats            221\n",
       "dtype: int64"
      ]
     },
     "execution_count": 6,
     "metadata": {},
     "output_type": "execute_result"
    }
   ],
   "source": [
    "df.isnull().sum()"
   ]
  },
  {
   "cell_type": "code",
   "execution_count": 7,
   "id": "78db98d0",
   "metadata": {},
   "outputs": [
    {
     "data": {
      "image/png": "[encoded data removed]",
      "text/plain": [
       "<Figure size 1440x1080 with 4 Axes>"
      ]
     },
     "metadata": {
      "needs_background": "light"
     },
     "output_type": "display_data"
    }
   ],
   "source": [
    "df.hist(bins=50, figsize=(20,15))\n",
    "plt.show()"
   ]
  },
  {
   "cell_type": "code",
   "execution_count": 8,
   "id": "e8ba5652",
   "metadata": {},
   "outputs": [],
   "source": [
    "train_set,test_set = train_test_split(df,test_size=0.3,random_state=42)"
   ]
  },
  {
   "cell_type": "code",
   "execution_count": 9,
   "id": "3628f6f9",
   "metadata": {},
   "outputs": [
    {
     "data": {
      "text/plain": [
       "(5689, 13)"
      ]
     },
     "execution_count": 9,
     "metadata": {},
     "output_type": "execute_result"
    }
   ],
   "source": [
    "train_set.shape"
   ]
  },
  {
   "cell_type": "code",
   "execution_count": 10,
   "id": "a4442c0d",
   "metadata": {},
   "outputs": [
    {
     "data": {
      "text/plain": [
       "(2439, 13)"
      ]
     },
     "execution_count": 10,
     "metadata": {},
     "output_type": "execute_result"
    }
   ],
   "source": [
    "test_set.shape"
   ]
  },
  {
   "cell_type": "markdown",
   "id": "a91320f1",
   "metadata": {},
   "source": [
    "### Discover & Visualize the Data to Gain Insights"
   ]
  },
  {
   "cell_type": "markdown",
   "id": "b73f6018",
   "metadata": {},
   "source": [
    "First, we will put the test data aside and use training data solely for all data visualisation and data processing steps\n"
   ]
  },
  {
   "cell_type": "code",
   "execution_count": 11,
   "id": "dffc44f1",
   "metadata": {},
   "outputs": [
    {
     "data": {
      "text/plain": [
       "(5689, 13)"
      ]
     },
     "execution_count": 11,
     "metadata": {},
     "output_type": "execute_result"
    }
   ],
   "source": [
    "# Creating a copy of training data for exploring\n",
    "vehicles_train_copy = train_set.copy()\n",
    "vehicles_train_copy.shape"
   ]
  },
  {
   "cell_type": "code",
   "execution_count": 12,
   "id": "2a66cc32",
   "metadata": {},
   "outputs": [
    {
     "data": {
      "text/html": [
       "<div>\n",
       "<style scoped>\n",
       "    .dataframe tbody tr th:only-of-type {\n",
       "        vertical-align: middle;\n",
       "    }\n",
       "\n",
       "    .dataframe tbody tr th {\n",
       "        vertical-align: top;\n",
       "    }\n",
       "\n",
       "    .dataframe thead th {\n",
       "        text-align: right;\n",
       "    }\n",
       "</style>\n",
       "<table border=\"1\" class=\"dataframe\">\n",
       "  <thead>\n",
       "    <tr style=\"text-align: right;\">\n",
       "      <th></th>\n",
       "      <th>name</th>\n",
       "      <th>year</th>\n",
       "      <th>selling_price</th>\n",
       "      <th>km_driven</th>\n",
       "      <th>fuel</th>\n",
       "      <th>seller_type</th>\n",
       "      <th>transmission</th>\n",
       "      <th>owner</th>\n",
       "      <th>mileage</th>\n",
       "      <th>engine</th>\n",
       "      <th>max_power</th>\n",
       "      <th>torque</th>\n",
       "      <th>seats</th>\n",
       "    </tr>\n",
       "  </thead>\n",
       "  <tbody>\n",
       "    <tr>\n",
       "      <th>6783</th>\n",
       "      <td>Maruti Alto LXi BSIII</td>\n",
       "      <td>2006</td>\n",
       "      <td>110000</td>\n",
       "      <td>120000</td>\n",
       "      <td>Petrol</td>\n",
       "      <td>Individual</td>\n",
       "      <td>Manual</td>\n",
       "      <td>Third Owner</td>\n",
       "      <td>19.7 kmpl</td>\n",
       "      <td>796 CC</td>\n",
       "      <td>46.3 bhp</td>\n",
       "      <td>62Nm@ 3000rpm</td>\n",
       "      <td>5.0</td>\n",
       "    </tr>\n",
       "    <tr>\n",
       "      <th>1073</th>\n",
       "      <td>Toyota Fortuner 2.8 2WD AT BSIV</td>\n",
       "      <td>2018</td>\n",
       "      <td>2940000</td>\n",
       "      <td>100000</td>\n",
       "      <td>Diesel</td>\n",
       "      <td>Dealer</td>\n",
       "      <td>Automatic</td>\n",
       "      <td>First Owner</td>\n",
       "      <td>12.9 kmpl</td>\n",
       "      <td>2755 CC</td>\n",
       "      <td>174.5 bhp</td>\n",
       "      <td>450Nm@ 1600-2400rpm</td>\n",
       "      <td>7.0</td>\n",
       "    </tr>\n",
       "    <tr>\n",
       "      <th>7756</th>\n",
       "      <td>BMW 3 Series 320d GT Luxury Line</td>\n",
       "      <td>2017</td>\n",
       "      <td>2950000</td>\n",
       "      <td>39000</td>\n",
       "      <td>Diesel</td>\n",
       "      <td>Dealer</td>\n",
       "      <td>Automatic</td>\n",
       "      <td>First Owner</td>\n",
       "      <td>19.59 kmpl</td>\n",
       "      <td>1995 CC</td>\n",
       "      <td>187.74 bhp</td>\n",
       "      <td>380Nm@ 1750-2750rpm</td>\n",
       "      <td>5.0</td>\n",
       "    </tr>\n",
       "    <tr>\n",
       "      <th>144</th>\n",
       "      <td>Toyota Corolla Altis 1.8 G CVT</td>\n",
       "      <td>2013</td>\n",
       "      <td>625000</td>\n",
       "      <td>39000</td>\n",
       "      <td>Petrol</td>\n",
       "      <td>Dealer</td>\n",
       "      <td>Automatic</td>\n",
       "      <td>First Owner</td>\n",
       "      <td>14.28 kmpl</td>\n",
       "      <td>1798 CC</td>\n",
       "      <td>138.03 bhp</td>\n",
       "      <td>173Nm@ 4000rpm</td>\n",
       "      <td>5.0</td>\n",
       "    </tr>\n",
       "    <tr>\n",
       "      <th>6424</th>\n",
       "      <td>Maruti Swift Dzire VDI</td>\n",
       "      <td>2013</td>\n",
       "      <td>395000</td>\n",
       "      <td>70000</td>\n",
       "      <td>Diesel</td>\n",
       "      <td>Individual</td>\n",
       "      <td>Manual</td>\n",
       "      <td>Second Owner</td>\n",
       "      <td>23.4 kmpl</td>\n",
       "      <td>1248 CC</td>\n",
       "      <td>74 bhp</td>\n",
       "      <td>190Nm@ 2000rpm</td>\n",
       "      <td>5.0</td>\n",
       "    </tr>\n",
       "  </tbody>\n",
       "</table>\n",
       "</div>"
      ],
      "text/plain": [
       "                                  name  year  selling_price  km_driven  \\\n",
       "6783             Maruti Alto LXi BSIII  2006         110000     120000   \n",
       "1073   Toyota Fortuner 2.8 2WD AT BSIV  2018        2940000     100000   \n",
       "7756  BMW 3 Series 320d GT Luxury Line  2017        2950000      39000   \n",
       "144     Toyota Corolla Altis 1.8 G CVT  2013         625000      39000   \n",
       "6424            Maruti Swift Dzire VDI  2013         395000      70000   \n",
       "\n",
       "        fuel seller_type transmission         owner     mileage   engine  \\\n",
       "6783  Petrol  Individual       Manual   Third Owner   19.7 kmpl   796 CC   \n",
       "1073  Diesel      Dealer    Automatic   First Owner   12.9 kmpl  2755 CC   \n",
       "7756  Diesel      Dealer    Automatic   First Owner  19.59 kmpl  1995 CC   \n",
       "144   Petrol      Dealer    Automatic   First Owner  14.28 kmpl  1798 CC   \n",
       "6424  Diesel  Individual       Manual  Second Owner   23.4 kmpl  1248 CC   \n",
       "\n",
       "       max_power               torque  seats  \n",
       "6783    46.3 bhp        62Nm@ 3000rpm    5.0  \n",
       "1073   174.5 bhp  450Nm@ 1600-2400rpm    7.0  \n",
       "7756  187.74 bhp  380Nm@ 1750-2750rpm    5.0  \n",
       "144   138.03 bhp       173Nm@ 4000rpm    5.0  \n",
       "6424      74 bhp       190Nm@ 2000rpm    5.0  "
      ]
     },
     "execution_count": 12,
     "metadata": {},
     "output_type": "execute_result"
    }
   ],
   "source": [
    "vehicles_train_copy.head()"
   ]
  },
  {
   "cell_type": "code",
   "execution_count": 13,
   "id": "f2c44917",
   "metadata": {},
   "outputs": [
    {
     "data": {
      "text/plain": [
       "<AxesSubplot:xlabel='transmission', ylabel='count'>"
      ]
     },
     "execution_count": 13,
     "metadata": {},
     "output_type": "execute_result"
    },
    {
     "data": {
      "image/png": "[encoded data removed]",
      "text/plain": [
       "<Figure size 432x288 with 1 Axes>"
      ]
     },
     "metadata": {
      "needs_background": "light"
     },
     "output_type": "display_data"
    }
   ],
   "source": [
    "sns.countplot(vehicles_train_copy[\"transmission\"])"
   ]
  },
  {
   "cell_type": "markdown",
   "id": "f9f0e189",
   "metadata": {},
   "source": [
    "From above graph we can conclude that we have more `Manual` transmissions cars with us.\n",
    "The most probable reason for this is `Automatic` transmission are in-demand for recent years only"
   ]
  },
  {
   "cell_type": "code",
   "execution_count": 14,
   "id": "2341b2ed",
   "metadata": {},
   "outputs": [
    {
     "data": {
      "image/png": "[encoded data removed]",
      "text/plain": [
       "<Figure size 432x288 with 1 Axes>"
      ]
     },
     "metadata": {
      "needs_background": "light"
     },
     "output_type": "display_data"
    }
   ],
   "source": [
    "# Finding the relation between transmission and selling price on the basis of fuel\n",
    "sns.swarmplot(x=\"transmission\", y=\"selling_price\", hue=\"fuel\",data=vehicles_train_copy, palette=\"Set1\", dodge=True)\n",
    "plt.ticklabel_format(style='plain', axis='y')\n",
    "# plt.ticklabel_format(style='plain', axis='x')\n",
    "plt.show()\n"
   ]
  },
  {
   "cell_type": "code",
   "execution_count": 15,
   "id": "02ff7b7b",
   "metadata": {},
   "outputs": [
    {
     "data": {
      "image/png": "[encoded data removed]",
      "text/plain": [
       "<Figure size 1075x288 with 5 Axes>"
      ]
     },
     "metadata": {
      "needs_background": "light"
     },
     "output_type": "display_data"
    }
   ],
   "source": [
    "sns.catplot(x=\"transmission\", y=\"selling_price\",\n",
    "                hue=\"fuel\", col=\"owner\",\n",
    "                data=vehicles_train_copy, kind=\"swarm\",\n",
    "                height=4, aspect=.7)\n",
    "plt.show()"
   ]
  },
  {
   "cell_type": "code",
   "execution_count": 16,
   "id": "e132e572",
   "metadata": {},
   "outputs": [
    {
     "data": {
      "image/png": "[encoded data removed]",
      "text/plain": [
       "<Figure size 482x360 with 1 Axes>"
      ]
     },
     "metadata": {
      "needs_background": "light"
     },
     "output_type": "display_data"
    }
   ],
   "source": [
    "sns.relplot(x=\"km_driven\", y=\"selling_price\", hue=\"seller_type\",alpha=.5, palette=\"muted\",\n",
    "            data=vehicles_train_copy)\n",
    "plt.ticklabel_format(style='plain', axis='y')\n",
    "plt.ticklabel_format(style='plain', axis='x')"
   ]
  },
  {
   "cell_type": "code",
   "execution_count": 17,
   "id": "7dcaabbb",
   "metadata": {},
   "outputs": [
    {
     "data": {
      "image/png": "[encoded data removed]",
      "text/plain": [
       "<Figure size 360x360 with 1 Axes>"
      ]
     },
     "metadata": {
      "needs_background": "light"
     },
     "output_type": "display_data"
    }
   ],
   "source": [
    "sns.relplot(x=\"year\", y=\"selling_price\",\n",
    "            alpha=.5, \n",
    "            palette=\"muted\",\n",
    "            data=vehicles_train_copy)\n",
    "plt.ticklabel_format(style='plain', axis='y')\n",
    "plt.ticklabel_format(style='plain', axis='x')\n",
    "plt.show()"
   ]
  },
  {
   "cell_type": "markdown",
   "id": "317a52ed",
   "metadata": {},
   "source": [
    "We need to change few dummy categorial features to numerical\n",
    "- milage\n",
    "- engine\n",
    "- max power\n",
    "\n",
    "    -> We also need to drop `name` and `torque` as they are adding any values to our prediction"
   ]
  },
  {
   "cell_type": "code",
   "execution_count": 18,
   "id": "17d834ea",
   "metadata": {},
   "outputs": [
    {
     "data": {
      "text/html": [
       "<div>\n",
       "<style scoped>\n",
       "    .dataframe tbody tr th:only-of-type {\n",
       "        vertical-align: middle;\n",
       "    }\n",
       "\n",
       "    .dataframe tbody tr th {\n",
       "        vertical-align: top;\n",
       "    }\n",
       "\n",
       "    .dataframe thead th {\n",
       "        text-align: right;\n",
       "    }\n",
       "</style>\n",
       "<table border=\"1\" class=\"dataframe\">\n",
       "  <thead>\n",
       "    <tr style=\"text-align: right;\">\n",
       "      <th></th>\n",
       "      <th>name</th>\n",
       "      <th>year</th>\n",
       "      <th>selling_price</th>\n",
       "      <th>km_driven</th>\n",
       "      <th>fuel</th>\n",
       "      <th>seller_type</th>\n",
       "      <th>transmission</th>\n",
       "      <th>owner</th>\n",
       "      <th>mileage</th>\n",
       "      <th>engine</th>\n",
       "      <th>max_power</th>\n",
       "      <th>torque</th>\n",
       "      <th>seats</th>\n",
       "    </tr>\n",
       "  </thead>\n",
       "  <tbody>\n",
       "    <tr>\n",
       "      <th>6783</th>\n",
       "      <td>Maruti Alto LXi BSIII</td>\n",
       "      <td>2006</td>\n",
       "      <td>110000</td>\n",
       "      <td>120000</td>\n",
       "      <td>Petrol</td>\n",
       "      <td>Individual</td>\n",
       "      <td>Manual</td>\n",
       "      <td>Third Owner</td>\n",
       "      <td>19.7 kmpl</td>\n",
       "      <td>796 CC</td>\n",
       "      <td>46.3 bhp</td>\n",
       "      <td>62Nm@ 3000rpm</td>\n",
       "      <td>5.0</td>\n",
       "    </tr>\n",
       "  </tbody>\n",
       "</table>\n",
       "</div>"
      ],
      "text/plain": [
       "                       name  year  selling_price  km_driven    fuel  \\\n",
       "6783  Maruti Alto LXi BSIII  2006         110000     120000  Petrol   \n",
       "\n",
       "     seller_type transmission        owner    mileage  engine max_power  \\\n",
       "6783  Individual       Manual  Third Owner  19.7 kmpl  796 CC  46.3 bhp   \n",
       "\n",
       "             torque  seats  \n",
       "6783  62Nm@ 3000rpm    5.0  "
      ]
     },
     "execution_count": 18,
     "metadata": {},
     "output_type": "execute_result"
    }
   ],
   "source": [
    "vehicles_train_copy.head(1)"
   ]
  },
  {
   "cell_type": "code",
   "execution_count": 19,
   "id": "8327138d",
   "metadata": {},
   "outputs": [
    {
     "name": "stdout",
     "output_type": "stream",
     "text": [
      "mileage kmpl\n",
      "mileage km/kg\n",
      "engine CC\n"
     ]
    }
   ],
   "source": [
    "def change_columns(df,**kwargs):\n",
    "    for cols in kwargs:\n",
    "        for values in kwargs[cols]:\n",
    "            print(cols,values)\n",
    "            df[cols] = df[cols].apply(lambda x: (str(x).strip(values)))\n",
    "        df[cols] = df[cols].apply(lambda x:float(x))\n",
    "            \n",
    "\n",
    "change_columns(vehicles_train_copy,mileage=[\"kmpl\",\"km/kg\"],engine=[\"CC\"])"
   ]
  },
  {
   "cell_type": "code",
   "execution_count": 20,
   "id": "2d70d0aa",
   "metadata": {},
   "outputs": [
    {
     "data": {
      "text/html": [
       "<div>\n",
       "<style scoped>\n",
       "    .dataframe tbody tr th:only-of-type {\n",
       "        vertical-align: middle;\n",
       "    }\n",
       "\n",
       "    .dataframe tbody tr th {\n",
       "        vertical-align: top;\n",
       "    }\n",
       "\n",
       "    .dataframe thead th {\n",
       "        text-align: right;\n",
       "    }\n",
       "</style>\n",
       "<table border=\"1\" class=\"dataframe\">\n",
       "  <thead>\n",
       "    <tr style=\"text-align: right;\">\n",
       "      <th></th>\n",
       "      <th>name</th>\n",
       "      <th>year</th>\n",
       "      <th>selling_price</th>\n",
       "      <th>km_driven</th>\n",
       "      <th>fuel</th>\n",
       "      <th>seller_type</th>\n",
       "      <th>transmission</th>\n",
       "      <th>owner</th>\n",
       "      <th>mileage</th>\n",
       "      <th>engine</th>\n",
       "      <th>max_power</th>\n",
       "      <th>torque</th>\n",
       "      <th>seats</th>\n",
       "    </tr>\n",
       "  </thead>\n",
       "  <tbody>\n",
       "    <tr>\n",
       "      <th>6783</th>\n",
       "      <td>Maruti Alto LXi BSIII</td>\n",
       "      <td>2006</td>\n",
       "      <td>110000</td>\n",
       "      <td>120000</td>\n",
       "      <td>Petrol</td>\n",
       "      <td>Individual</td>\n",
       "      <td>Manual</td>\n",
       "      <td>Third Owner</td>\n",
       "      <td>19.7</td>\n",
       "      <td>796.0</td>\n",
       "      <td>46.3 bhp</td>\n",
       "      <td>62Nm@ 3000rpm</td>\n",
       "      <td>5.0</td>\n",
       "    </tr>\n",
       "  </tbody>\n",
       "</table>\n",
       "</div>"
      ],
      "text/plain": [
       "                       name  year  selling_price  km_driven    fuel  \\\n",
       "6783  Maruti Alto LXi BSIII  2006         110000     120000  Petrol   \n",
       "\n",
       "     seller_type transmission        owner  mileage  engine max_power  \\\n",
       "6783  Individual       Manual  Third Owner     19.7   796.0  46.3 bhp   \n",
       "\n",
       "             torque  seats  \n",
       "6783  62Nm@ 3000rpm    5.0  "
      ]
     },
     "execution_count": 20,
     "metadata": {},
     "output_type": "execute_result"
    }
   ],
   "source": [
    "vehicles_train_copy.head(1)"
   ]
  },
  {
   "cell_type": "code",
   "execution_count": 21,
   "id": "ef053fab",
   "metadata": {},
   "outputs": [],
   "source": [
    "def change_max_power(sample):\n",
    "    sample[\"max_power\"] = sample[\"max_power\"].apply(lambda x: float(x.strip(\"bhp\").strip()) if str(x) != \"nan\" and str(x)!=' bhp' else np.nan)"
   ]
  },
  {
   "cell_type": "code",
   "execution_count": 22,
   "id": "eabb3de1",
   "metadata": {},
   "outputs": [],
   "source": [
    "change_max_power(vehicles_train_copy)"
   ]
  },
  {
   "cell_type": "code",
   "execution_count": 23,
   "id": "4df73738",
   "metadata": {},
   "outputs": [
    {
     "name": "stdout",
     "output_type": "stream",
     "text": [
      "<class 'pandas.core.frame.DataFrame'>\n",
      "Int64Index: 5689 entries, 6783 to 7270\n",
      "Data columns (total 13 columns):\n",
      " #   Column         Non-Null Count  Dtype  \n",
      "---  ------         --------------  -----  \n",
      " 0   name           5689 non-null   object \n",
      " 1   year           5689 non-null   int64  \n",
      " 2   selling_price  5689 non-null   int64  \n",
      " 3   km_driven      5689 non-null   int64  \n",
      " 4   fuel           5689 non-null   object \n",
      " 5   seller_type    5689 non-null   object \n",
      " 6   transmission   5689 non-null   object \n",
      " 7   owner          5689 non-null   object \n",
      " 8   mileage        5538 non-null   float64\n",
      " 9   engine         5538 non-null   float64\n",
      " 10  max_power      5540 non-null   float64\n",
      " 11  torque         5537 non-null   object \n",
      " 12  seats          5538 non-null   float64\n",
      "dtypes: float64(4), int64(3), object(6)\n",
      "memory usage: 751.3+ KB\n"
     ]
    }
   ],
   "source": [
    "vehicles_train_copy.info()"
   ]
  },
  {
   "cell_type": "code",
   "execution_count": 24,
   "id": "179f316b",
   "metadata": {},
   "outputs": [
    {
     "data": {
      "text/plain": [
       "<seaborn.axisgrid.JointGrid at 0x151f67104c0>"
      ]
     },
     "execution_count": 24,
     "metadata": {},
     "output_type": "execute_result"
    },
    {
     "data": {
      "image/png": "[encoded data removed]",
      "text/plain": [
       "<Figure size 432x432 with 3 Axes>"
      ]
     },
     "metadata": {
      "needs_background": "light"
     },
     "output_type": "display_data"
    }
   ],
   "source": [
    "sns.jointplot(\n",
    "    data=vehicles_train_copy,\n",
    "    x=\"mileage\", y=\"selling_price\", hue=\"fuel\",\n",
    "    kind=\"scatter\",\n",
    "    palette=\"muted\"\n",
    ")\n"
   ]
  },
  {
   "cell_type": "code",
   "execution_count": 25,
   "id": "1c1924dc",
   "metadata": {},
   "outputs": [
    {
     "data": {
      "text/html": [
       "<div>\n",
       "<style scoped>\n",
       "    .dataframe tbody tr th:only-of-type {\n",
       "        vertical-align: middle;\n",
       "    }\n",
       "\n",
       "    .dataframe tbody tr th {\n",
       "        vertical-align: top;\n",
       "    }\n",
       "\n",
       "    .dataframe thead th {\n",
       "        text-align: right;\n",
       "    }\n",
       "</style>\n",
       "<table border=\"1\" class=\"dataframe\">\n",
       "  <thead>\n",
       "    <tr style=\"text-align: right;\">\n",
       "      <th></th>\n",
       "      <th>year</th>\n",
       "      <th>selling_price</th>\n",
       "      <th>km_driven</th>\n",
       "      <th>mileage</th>\n",
       "      <th>engine</th>\n",
       "      <th>max_power</th>\n",
       "      <th>seats</th>\n",
       "    </tr>\n",
       "  </thead>\n",
       "  <tbody>\n",
       "    <tr>\n",
       "      <th>year</th>\n",
       "      <td>1.000000</td>\n",
       "      <td>0.417795</td>\n",
       "      <td>-0.387508</td>\n",
       "      <td>0.329820</td>\n",
       "      <td>0.022966</td>\n",
       "      <td>0.236384</td>\n",
       "      <td>-0.000960</td>\n",
       "    </tr>\n",
       "    <tr>\n",
       "      <th>selling_price</th>\n",
       "      <td>0.417795</td>\n",
       "      <td>1.000000</td>\n",
       "      <td>-0.214012</td>\n",
       "      <td>-0.138174</td>\n",
       "      <td>0.454379</td>\n",
       "      <td>0.746911</td>\n",
       "      <td>0.041707</td>\n",
       "    </tr>\n",
       "    <tr>\n",
       "      <th>km_driven</th>\n",
       "      <td>-0.387508</td>\n",
       "      <td>-0.214012</td>\n",
       "      <td>1.000000</td>\n",
       "      <td>-0.164446</td>\n",
       "      <td>0.195776</td>\n",
       "      <td>-0.038114</td>\n",
       "      <td>0.211808</td>\n",
       "    </tr>\n",
       "    <tr>\n",
       "      <th>mileage</th>\n",
       "      <td>0.329820</td>\n",
       "      <td>-0.138174</td>\n",
       "      <td>-0.164446</td>\n",
       "      <td>1.000000</td>\n",
       "      <td>-0.576097</td>\n",
       "      <td>-0.380966</td>\n",
       "      <td>-0.434956</td>\n",
       "    </tr>\n",
       "    <tr>\n",
       "      <th>engine</th>\n",
       "      <td>0.022966</td>\n",
       "      <td>0.454379</td>\n",
       "      <td>0.195776</td>\n",
       "      <td>-0.576097</td>\n",
       "      <td>1.000000</td>\n",
       "      <td>0.698479</td>\n",
       "      <td>0.606721</td>\n",
       "    </tr>\n",
       "    <tr>\n",
       "      <th>max_power</th>\n",
       "      <td>0.236384</td>\n",
       "      <td>0.746911</td>\n",
       "      <td>-0.038114</td>\n",
       "      <td>-0.380966</td>\n",
       "      <td>0.698479</td>\n",
       "      <td>1.000000</td>\n",
       "      <td>0.189227</td>\n",
       "    </tr>\n",
       "    <tr>\n",
       "      <th>seats</th>\n",
       "      <td>-0.000960</td>\n",
       "      <td>0.041707</td>\n",
       "      <td>0.211808</td>\n",
       "      <td>-0.434956</td>\n",
       "      <td>0.606721</td>\n",
       "      <td>0.189227</td>\n",
       "      <td>1.000000</td>\n",
       "    </tr>\n",
       "  </tbody>\n",
       "</table>\n",
       "</div>"
      ],
      "text/plain": [
       "                   year  selling_price  km_driven   mileage    engine  \\\n",
       "year           1.000000       0.417795  -0.387508  0.329820  0.022966   \n",
       "selling_price  0.417795       1.000000  -0.214012 -0.138174  0.454379   \n",
       "km_driven     -0.387508      -0.214012   1.000000 -0.164446  0.195776   \n",
       "mileage        0.329820      -0.138174  -0.164446  1.000000 -0.576097   \n",
       "engine         0.022966       0.454379   0.195776 -0.576097  1.000000   \n",
       "max_power      0.236384       0.746911  -0.038114 -0.380966  0.698479   \n",
       "seats         -0.000960       0.041707   0.211808 -0.434956  0.606721   \n",
       "\n",
       "               max_power     seats  \n",
       "year            0.236384 -0.000960  \n",
       "selling_price   0.746911  0.041707  \n",
       "km_driven      -0.038114  0.211808  \n",
       "mileage        -0.380966 -0.434956  \n",
       "engine          0.698479  0.606721  \n",
       "max_power       1.000000  0.189227  \n",
       "seats           0.189227  1.000000  "
      ]
     },
     "execution_count": 25,
     "metadata": {},
     "output_type": "execute_result"
    }
   ],
   "source": [
    "vehicles_train_copy.corr()"
   ]
  },
  {
   "cell_type": "markdown",
   "id": "84029ec2",
   "metadata": {},
   "source": [
    "### Prepare the Data for Machine Learning Algorithms"
   ]
  },
  {
   "cell_type": "markdown",
   "id": "6d7d612b",
   "metadata": {},
   "source": [
    "### Data Cleaning\n",
    "\n",
    "- Most machine learning algorithms cannot deal with missing features, so let's create a few functions to deal with them.\n",
    "- Also we need to clean few dummy categorial features as processed before"
   ]
  },
  {
   "cell_type": "code",
   "execution_count": 26,
   "id": "bc8bc797",
   "metadata": {},
   "outputs": [
    {
     "name": "stdout",
     "output_type": "stream",
     "text": [
      "mileage kmpl\n",
      "mileage km/kg\n",
      "engine CC\n"
     ]
    }
   ],
   "source": [
    "#Dropping non-useful columns\n",
    "train_set.drop(columns=[\"name\",\"torque\"],axis=1,inplace=True)\n",
    "# Feature cleaning for dummy categorial features\n",
    "change_columns(train_set,mileage=[\"kmpl\",\"km/kg\"],engine=[\"CC\"])\n",
    "change_max_power(train_set)\n"
   ]
  },
  {
   "cell_type": "code",
   "execution_count": 27,
   "id": "b228287a",
   "metadata": {},
   "outputs": [
    {
     "data": {
      "text/plain": [
       "(5689, 11)"
      ]
     },
     "execution_count": 27,
     "metadata": {},
     "output_type": "execute_result"
    }
   ],
   "source": [
    "train_set.shape"
   ]
  },
  {
   "cell_type": "code",
   "execution_count": 28,
   "id": "207cab6a",
   "metadata": {},
   "outputs": [
    {
     "data": {
      "text/plain": [
       "year               0\n",
       "selling_price      0\n",
       "km_driven          0\n",
       "fuel               0\n",
       "seller_type        0\n",
       "transmission       0\n",
       "owner              0\n",
       "mileage          151\n",
       "engine           151\n",
       "max_power        149\n",
       "seats            151\n",
       "dtype: int64"
      ]
     },
     "execution_count": 28,
     "metadata": {},
     "output_type": "execute_result"
    }
   ],
   "source": [
    "train_set.isnull().sum()"
   ]
  },
  {
   "cell_type": "code",
   "execution_count": 29,
   "id": "d5a745a9",
   "metadata": {},
   "outputs": [],
   "source": [
    "#Simple imputer will work only on numerical data\n",
    "\n",
    "nums_features = [\"km_driven\",\"mileage\",\"engine\",\"max_power\",\"seats\",\"year\"] #\"\n",
    "cat_features = [\"fuel\",\"seller_type\",\"transmission\",\"owner\"]"
   ]
  },
  {
   "cell_type": "code",
   "execution_count": 30,
   "id": "9b509907",
   "metadata": {},
   "outputs": [
    {
     "data": {
      "text/html": [
       "<div>\n",
       "<style scoped>\n",
       "    .dataframe tbody tr th:only-of-type {\n",
       "        vertical-align: middle;\n",
       "    }\n",
       "\n",
       "    .dataframe tbody tr th {\n",
       "        vertical-align: top;\n",
       "    }\n",
       "\n",
       "    .dataframe thead th {\n",
       "        text-align: right;\n",
       "    }\n",
       "</style>\n",
       "<table border=\"1\" class=\"dataframe\">\n",
       "  <thead>\n",
       "    <tr style=\"text-align: right;\">\n",
       "      <th></th>\n",
       "      <th>km_driven</th>\n",
       "      <th>mileage</th>\n",
       "      <th>engine</th>\n",
       "      <th>max_power</th>\n",
       "      <th>seats</th>\n",
       "      <th>year</th>\n",
       "    </tr>\n",
       "  </thead>\n",
       "  <tbody>\n",
       "    <tr>\n",
       "      <th>6783</th>\n",
       "      <td>120000</td>\n",
       "      <td>19.70</td>\n",
       "      <td>796.0</td>\n",
       "      <td>46.30</td>\n",
       "      <td>5.0</td>\n",
       "      <td>2006</td>\n",
       "    </tr>\n",
       "    <tr>\n",
       "      <th>1073</th>\n",
       "      <td>100000</td>\n",
       "      <td>12.90</td>\n",
       "      <td>2755.0</td>\n",
       "      <td>174.50</td>\n",
       "      <td>7.0</td>\n",
       "      <td>2018</td>\n",
       "    </tr>\n",
       "    <tr>\n",
       "      <th>7756</th>\n",
       "      <td>39000</td>\n",
       "      <td>19.59</td>\n",
       "      <td>1995.0</td>\n",
       "      <td>187.74</td>\n",
       "      <td>5.0</td>\n",
       "      <td>2017</td>\n",
       "    </tr>\n",
       "    <tr>\n",
       "      <th>144</th>\n",
       "      <td>39000</td>\n",
       "      <td>14.28</td>\n",
       "      <td>1798.0</td>\n",
       "      <td>138.03</td>\n",
       "      <td>5.0</td>\n",
       "      <td>2013</td>\n",
       "    </tr>\n",
       "    <tr>\n",
       "      <th>6424</th>\n",
       "      <td>70000</td>\n",
       "      <td>23.40</td>\n",
       "      <td>1248.0</td>\n",
       "      <td>74.00</td>\n",
       "      <td>5.0</td>\n",
       "      <td>2013</td>\n",
       "    </tr>\n",
       "  </tbody>\n",
       "</table>\n",
       "</div>"
      ],
      "text/plain": [
       "      km_driven  mileage  engine  max_power  seats  year\n",
       "6783     120000    19.70   796.0      46.30    5.0  2006\n",
       "1073     100000    12.90  2755.0     174.50    7.0  2018\n",
       "7756      39000    19.59  1995.0     187.74    5.0  2017\n",
       "144       39000    14.28  1798.0     138.03    5.0  2013\n",
       "6424      70000    23.40  1248.0      74.00    5.0  2013"
      ]
     },
     "execution_count": 30,
     "metadata": {},
     "output_type": "execute_result"
    }
   ],
   "source": [
    "vehicles_train_nums = train_set[nums_features]\n",
    "vehicles_train_nums.head()"
   ]
  },
  {
   "cell_type": "code",
   "execution_count": 31,
   "id": "c3a32c06",
   "metadata": {},
   "outputs": [
    {
     "data": {
      "text/plain": [
       "km_driven      0\n",
       "mileage      151\n",
       "engine       151\n",
       "max_power    149\n",
       "seats        151\n",
       "year           0\n",
       "dtype: int64"
      ]
     },
     "execution_count": 31,
     "metadata": {},
     "output_type": "execute_result"
    }
   ],
   "source": [
    "vehicles_train_nums.isnull().sum()"
   ]
  },
  {
   "cell_type": "code",
   "execution_count": 32,
   "id": "55239f05",
   "metadata": {},
   "outputs": [
    {
     "data": {
      "text/html": [
       "<div>\n",
       "<style scoped>\n",
       "    .dataframe tbody tr th:only-of-type {\n",
       "        vertical-align: middle;\n",
       "    }\n",
       "\n",
       "    .dataframe tbody tr th {\n",
       "        vertical-align: top;\n",
       "    }\n",
       "\n",
       "    .dataframe thead th {\n",
       "        text-align: right;\n",
       "    }\n",
       "</style>\n",
       "<table border=\"1\" class=\"dataframe\">\n",
       "  <thead>\n",
       "    <tr style=\"text-align: right;\">\n",
       "      <th></th>\n",
       "      <th>fuel</th>\n",
       "      <th>seller_type</th>\n",
       "      <th>transmission</th>\n",
       "      <th>owner</th>\n",
       "    </tr>\n",
       "  </thead>\n",
       "  <tbody>\n",
       "    <tr>\n",
       "      <th>6783</th>\n",
       "      <td>Petrol</td>\n",
       "      <td>Individual</td>\n",
       "      <td>Manual</td>\n",
       "      <td>Third Owner</td>\n",
       "    </tr>\n",
       "    <tr>\n",
       "      <th>1073</th>\n",
       "      <td>Diesel</td>\n",
       "      <td>Dealer</td>\n",
       "      <td>Automatic</td>\n",
       "      <td>First Owner</td>\n",
       "    </tr>\n",
       "    <tr>\n",
       "      <th>7756</th>\n",
       "      <td>Diesel</td>\n",
       "      <td>Dealer</td>\n",
       "      <td>Automatic</td>\n",
       "      <td>First Owner</td>\n",
       "    </tr>\n",
       "    <tr>\n",
       "      <th>144</th>\n",
       "      <td>Petrol</td>\n",
       "      <td>Dealer</td>\n",
       "      <td>Automatic</td>\n",
       "      <td>First Owner</td>\n",
       "    </tr>\n",
       "    <tr>\n",
       "      <th>6424</th>\n",
       "      <td>Diesel</td>\n",
       "      <td>Individual</td>\n",
       "      <td>Manual</td>\n",
       "      <td>Second Owner</td>\n",
       "    </tr>\n",
       "  </tbody>\n",
       "</table>\n",
       "</div>"
      ],
      "text/plain": [
       "        fuel seller_type transmission         owner\n",
       "6783  Petrol  Individual       Manual   Third Owner\n",
       "1073  Diesel      Dealer    Automatic   First Owner\n",
       "7756  Diesel      Dealer    Automatic   First Owner\n",
       "144   Petrol      Dealer    Automatic   First Owner\n",
       "6424  Diesel  Individual       Manual  Second Owner"
      ]
     },
     "execution_count": 32,
     "metadata": {},
     "output_type": "execute_result"
    }
   ],
   "source": [
    "vehicles_train_cat = train_set[cat_features]\n",
    "vehicles_train_cat.head()"
   ]
  },
  {
   "cell_type": "code",
   "execution_count": 33,
   "id": "97f85918",
   "metadata": {},
   "outputs": [
    {
     "data": {
      "text/plain": [
       "fuel            0\n",
       "seller_type     0\n",
       "transmission    0\n",
       "owner           0\n",
       "dtype: int64"
      ]
     },
     "execution_count": 33,
     "metadata": {},
     "output_type": "execute_result"
    }
   ],
   "source": [
    "vehicles_train_cat.isnull().sum()"
   ]
  },
  {
   "cell_type": "code",
   "execution_count": 34,
   "id": "9dd4b09f",
   "metadata": {},
   "outputs": [],
   "source": [
    "from sklearn.impute import SimpleImputer\n",
    "\n",
    "num_pipeline = Pipeline([\n",
    "    ('imputer', SimpleImputer(strategy='mean')),\n",
    "    ('std_scaler', StandardScaler())\n",
    "])\n",
    "\n",
    "# vehicles_train_nums_tr = num_pipeline.fit_transform(vehicles_train_nums)"
   ]
  },
  {
   "cell_type": "code",
   "execution_count": 35,
   "id": "6f9407db",
   "metadata": {},
   "outputs": [],
   "source": [
    "from sklearn.compose import ColumnTransformer\n",
    "\n",
    "full_pipeline = ColumnTransformer([\n",
    "    (\"num\", num_pipeline, nums_features),\n",
    "    (\"cat\", OneHotEncoder(), cat_features)\n",
    "])\n",
    "\n"
   ]
  },
  {
   "cell_type": "code",
   "execution_count": 36,
   "id": "0c66477c",
   "metadata": {},
   "outputs": [
    {
     "data": {
      "text/plain": [
       "(5689, 20)"
      ]
     },
     "execution_count": 36,
     "metadata": {},
     "output_type": "execute_result"
    }
   ],
   "source": [
    "vehicles_transformed = full_pipeline.fit_transform(train_set)\n",
    "vehicles_transformed.shape"
   ]
  },
  {
   "cell_type": "code",
   "execution_count": 37,
   "id": "4a9be4c3",
   "metadata": {},
   "outputs": [
    {
     "ename": "AttributeError",
     "evalue": "'numpy.ndarray' object has no attribute 'drop'",
     "output_type": "error",
     "traceback": [
      "\u001b[1;31m---------------------------------------------------------------------------\u001b[0m",
      "\u001b[1;31mAttributeError\u001b[0m                            Traceback (most recent call last)",
      "Input \u001b[1;32mIn [37]\u001b[0m, in \u001b[0;36m<cell line: 1>\u001b[1;34m()\u001b[0m\n\u001b[1;32m----> 1\u001b[0m vehicles_features \u001b[38;5;241m=\u001b[39m \u001b[43mvehicles_transformed\u001b[49m\u001b[38;5;241;43m.\u001b[39;49m\u001b[43mdrop\u001b[49m(\u001b[38;5;124m\"\u001b[39m\u001b[38;5;124mselling_price\u001b[39m\u001b[38;5;124m\"\u001b[39m,axis\u001b[38;5;241m=\u001b[39m\u001b[38;5;241m1\u001b[39m)\n\u001b[0;32m      2\u001b[0m vehicles_labels \u001b[38;5;241m=\u001b[39m vehicles_transformed[\u001b[38;5;124m\"\u001b[39m\u001b[38;5;124mselling_price\u001b[39m\u001b[38;5;124m\"\u001b[39m]\n",
      "\u001b[1;31mAttributeError\u001b[0m: 'numpy.ndarray' object has no attribute 'drop'"
     ]
    }
   ],
   "source": [
    "vehicles_features = vehicles_transformed.drop(\"selling_price\",axis=1)\n",
    "vehicles_labels = vehicles_transformed[\"selling_price\"]"
   ]
  },
  {
   "cell_type": "code",
   "execution_count": null,
   "id": "44020312",
   "metadata": {},
   "outputs": [],
   "source": [
    "vehicles_features.shape"
   ]
  },
  {
   "cell_type": "markdown",
   "id": "bf877f84",
   "metadata": {},
   "source": [
    "That's it !! We have created our pipeline for data cleaning and processing our data\n",
    "It has following steps :- \n",
    "\n",
    "- change_columns(vehicles_features,mileage=[\"kmpl\",\"km/kg\"],engine=[\"CC\"])\n",
    "- change_max_power(vehicles_features)\n",
    "- full_pipeline.fit_transform(vehicles_features)"
   ]
  },
  {
   "cell_type": "markdown",
   "id": "e94d552b",
   "metadata": {},
   "source": [
    "### Select and train our model"
   ]
  },
  {
   "cell_type": "markdown",
   "id": "3b6a9ac7",
   "metadata": {},
   "source": [
    "We are now ready to select & train an ML model."
   ]
  },
  {
   "cell_type": "markdown",
   "id": "98d756f7",
   "metadata": {},
   "source": [
    "First we will try with Linear Regression to predict our selling price.\n",
    "For this purpose we will consider few part of training data so that we can keep our testing data intact"
   ]
  },
  {
   "cell_type": "code",
   "execution_count": null,
   "id": "cef14715",
   "metadata": {},
   "outputs": [],
   "source": [
    "lin_reg = LinearRegression()"
   ]
  },
  {
   "cell_type": "code",
   "execution_count": null,
   "id": "ad2a3991",
   "metadata": {},
   "outputs": [],
   "source": [
    "lin_reg.fit(X=vehicles_features,y=vehicles_labels)"
   ]
  },
  {
   "cell_type": "code",
   "execution_count": null,
   "id": "3525c878",
   "metadata": {},
   "outputs": [],
   "source": [
    "lin_reg.intercept_"
   ]
  },
  {
   "cell_type": "code",
   "execution_count": null,
   "id": "09b5e8c3",
   "metadata": {},
   "outputs": [],
   "source": [
    "lin_reg.coef_"
   ]
  },
  {
   "cell_type": "code",
   "execution_count": null,
   "id": "20fa63e1",
   "metadata": {},
   "outputs": [],
   "source": [
    "some_test_data = train_set.iloc[:10]\n",
    "# some_test_label = train_set.iloc[:10]\n"
   ]
  },
  {
   "cell_type": "code",
   "execution_count": null,
   "id": "260f6d0f",
   "metadata": {},
   "outputs": [],
   "source": [
    "some_test_data"
   ]
  },
  {
   "cell_type": "code",
   "execution_count": null,
   "id": "05525ea4",
   "metadata": {},
   "outputs": [],
   "source": [
    "some_test_tr = full_pipeline.transform(some_test_data)\n",
    "some_test_tr.shape"
   ]
  },
  {
   "cell_type": "code",
   "execution_count": null,
   "id": "a779353b",
   "metadata": {},
   "outputs": [],
   "source": [
    "some_test_features = some_test_tr.drop(\"selling_price\",axis=1)\n",
    "some_test_labels = some_test_tr[\"selling_price\"]"
   ]
  },
  {
   "cell_type": "code",
   "execution_count": null,
   "id": "c040f1b8",
   "metadata": {},
   "outputs": [],
   "source": [
    "some_test_pred = lin_reg.predict(some_test_features)\n"
   ]
  },
  {
   "cell_type": "code",
   "execution_count": null,
   "id": "43c8c367",
   "metadata": {},
   "outputs": [],
   "source": [
    "some_test_pred"
   ]
  },
  {
   "cell_type": "code",
   "execution_count": null,
   "id": "c84b06da",
   "metadata": {},
   "outputs": [],
   "source": [
    "from sklearn.metrics import mean_squared_error\n",
    "\n",
    "lin_mse = mean_squared_error(some_test_label, some_test_pred)\n",
    "rmse = np.sqrt(lin_mse)"
   ]
  },
  {
   "cell_type": "code",
   "execution_count": null,
   "id": "8afcd892",
   "metadata": {},
   "outputs": [],
   "source": [
    "print(f'Mean squared error: {lin_mse:.2f}')\n",
    "print(f'Root mean squared error: {rmse:.2f}')"
   ]
  },
  {
   "cell_type": "markdown",
   "id": "0cf7e17d",
   "metadata": {},
   "source": [
    "### Better Evaluation using Cross-Validation"
   ]
  },
  {
   "cell_type": "code",
   "execution_count": null,
   "id": "65a59922",
   "metadata": {},
   "outputs": [],
   "source": []
  }
 ],
 "metadata": {
  "kernelspec": {
   "display_name": "Python 3 (ipykernel)",
   "language": "python",
   "name": "python3"
  },
  "language_info": {
   "codemirror_mode": {
    "name": "ipython",
    "version": 3
   },
   "file_extension": ".py",
   "mimetype": "text/x-python",
   "name": "python",
   "nbconvert_exporter": "python",
   "pygments_lexer": "ipython3",
   "version": "3.10.2"
  }
 },
 "nbformat": 4,
 "nbformat_minor": 5
}
